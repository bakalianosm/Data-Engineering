{
 "cells": [
  {
   "cell_type": "code",
   "execution_count": 23,
   "id": "e8c1d166-55d4-4cf9-b080-e7d9b63a209a",
   "metadata": {},
   "outputs": [],
   "source": [
    "from pyspark.sql import SparkSession\n",
    "\n",
    "# Initialize SparkSession\n",
    "spark = SparkSession.builder \\\n",
    "    .appName(\"Part B\") \\\n",
    "    .getOrCreate()"
   ]
  },
  {
   "cell_type": "markdown",
   "id": "7149c90f",
   "metadata": {},
   "source": [
    "### Loading the CSV file from `HDFS`"
   ]
  },
  {
   "cell_type": "code",
   "execution_count": 24,
   "id": "3e21d7b9-9d4f-48ac-9520-d5beb4e8cd06",
   "metadata": {},
   "outputs": [
    {
     "name": "stderr",
     "output_type": "stream",
     "text": [
      "                                                                                \r"
     ]
    }
   ],
   "source": [
    "df = spark.read.csv(\"hdfs://192.168.2.250:9000/parking-citations.csv\", header=True, inferSchema=True)\n"
   ]
  },
  {
   "cell_type": "markdown",
   "id": "3d6e590a-e293-40ad-8b53-671e8e7a6476",
   "metadata": {},
   "source": [
    "### It is important to note that this DataFrame is type spark.dataframe and not the usual pandas"
   ]
  },
  {
   "cell_type": "code",
   "execution_count": 25,
   "id": "4da97487-4b64-44fe-83c4-e647b8f2a79e",
   "metadata": {},
   "outputs": [
    {
     "name": "stdout",
     "output_type": "stream",
     "text": [
      "<class 'pyspark.sql.dataframe.DataFrame'>\n"
     ]
    }
   ],
   "source": [
    "print(type(df))"
   ]
  },
  {
   "cell_type": "code",
   "execution_count": 26,
   "id": "9344b01e-5e6a-4668-9391-093cb921ef76",
   "metadata": {
    "scrolled": true
   },
   "outputs": [
    {
     "name": "stdout",
     "output_type": "stream",
     "text": [
      "+-------------+-------------------+----------+--------+-----------+--------------+-----------------+----+----+----------+-----+--------------------+-----+------+--------------+---------------------+-----------+---------+---------+------------------+-----------------+----------------------+\n",
      "|Ticket number|         Issue Date|Issue time|Meter Id|Marked Time|RP State Plate|Plate Expiry Date| VIN|Make|Body Style|Color|            Location|Route|Agency|Violation code|Violation Description|Fine amount| Latitude|Longitude|Agency Description|Color Description|Body Style Description|\n",
      "+-------------+-------------------+----------+--------+-----------+--------------+-----------------+----+----+----------+-----+--------------------+-----+------+--------------+---------------------+-----------+---------+---------+------------------+-----------------+----------------------+\n",
      "|   1103341116|2015-12-21 00:00:00|    1251.0|    NULL|       NULL|            CA|         200304.0|NULL|HOND|        PA|   GY|     13147 WELBY WAY|01521|   1.0|        4000A1|   NO EVIDENCE OF REG|       50.0|  99999.0|  99999.0|              NULL|             NULL|                  NULL|\n",
      "|   1103700150|2015-12-21 00:00:00|    1435.0|    NULL|       NULL|            CA|         201512.0|NULL| GMC|        VN|   WH|       525 S MAIN ST| 1C51|   1.0|        4000A1|   NO EVIDENCE OF REG|       50.0|  99999.0|  99999.0|              NULL|             NULL|                  NULL|\n",
      "|   1104803000|2015-12-21 00:00:00|    2055.0|    NULL|       NULL|            CA|         201503.0|NULL|NISS|        PA|   BK|       200 WORLD WAY|  2R2|   2.0|          8939|           WHITE CURB|       58.0|6439997.9|1802686.4|              NULL|             NULL|                  NULL|\n",
      "|   1104820732|2015-12-26 00:00:00|    1515.0|    NULL|       NULL|            CA|             NULL|NULL|ACUR|        PA|   WH|       100 WORLD WAY| 2F11|   2.0|           000|               17104h|       NULL|6440041.1|1802686.2|              NULL|             NULL|                  NULL|\n",
      "|   1105461453|2015-09-15 00:00:00|     115.0|    NULL|       NULL|            CA|         200316.0|NULL|CHEV|        PA|   BK|  GEORGIA ST/OLYMPIC|1FB70|   1.0|         8069A| NO STOPPING/STANDING|       93.0|  99999.0|  99999.0|              NULL|             NULL|                  NULL|\n",
      "|   1106226590|2015-09-15 00:00:00|      19.0|    NULL|       NULL|            CA|         201507.0|NULL|CHEV|        VN|   GY|  SAN PEDRO S/O BOYD|1A35W|   1.0|        4000A1|   NO EVIDENCE OF REG|       50.0|  99999.0|  99999.0|              NULL|             NULL|                  NULL|\n",
      "|   1106500452|2015-12-17 00:00:00|    1710.0|    NULL|       NULL|            CA|         201605.0|NULL|MAZD|        PA|   BL|     SUNSET/ALVARADO|00217|   1.0|          8070| PARK IN GRID LOCK ZN|      163.0|  99999.0|  99999.0|              NULL|             NULL|                  NULL|\n",
      "|   1106500463|2015-12-17 00:00:00|    1710.0|    NULL|       NULL|            CA|         201602.0|NULL|TOYO|        PA|   BK|     SUNSET/ALVARADO|00217|   1.0|          8070| PARK IN GRID LOCK ZN|      163.0|  99999.0|  99999.0|              NULL|             NULL|                  NULL|\n",
      "|   1106506402|2015-12-22 00:00:00|     945.0|    NULL|       NULL|            CA|         201605.0|NULL|CHEV|        PA|   BR|      721 S WESTLAKE| 2A75|   1.0|        8069AA|     NO STOP/STAND AM|       93.0|  99999.0|  99999.0|              NULL|             NULL|                  NULL|\n",
      "|   1106506413|2015-12-22 00:00:00|    1100.0|    NULL|       NULL|            CA|         201701.0|NULL|NISS|        PA|   SI|     1159 HUNTLEY DR| 2A75|   1.0|        8069AA|     NO STOP/STAND AM|       93.0|  99999.0|  99999.0|              NULL|             NULL|                  NULL|\n",
      "|   1106506424|2015-12-22 00:00:00|    1100.0|    NULL|       NULL|            CA|         201511.0|NULL|FORD|        TR|   WH|     1159 HUNTLEY DR| 2A75|   1.0|        8069AA|     NO STOP/STAND AM|       93.0|  99999.0|  99999.0|              NULL|             NULL|                  NULL|\n",
      "|   1106506435|2015-12-22 00:00:00|    1105.0|    NULL|       NULL|            CA|         201701.0|NULL|CHRY|        PA|   GO|     1159 HUNTLEY DR| 2A75|   1.0|        8069AA|     NO STOP/STAND AM|       93.0|  99999.0|  99999.0|              NULL|             NULL|                  NULL|\n",
      "|   1106506446|2015-12-22 00:00:00|    1110.0|    NULL|       NULL|            CA|         201511.0|NULL| BMW|        PA|   BK|      1200 W MIRAMAR| 2A75|   1.0|        4000A1|   NO EVIDENCE OF REG|       50.0|  99999.0|  99999.0|              NULL|             NULL|                  NULL|\n",
      "|   1106549754|2015-12-15 00:00:00|     825.0|    NULL|       NULL|            CA|         201607.0|NULL|PTRB|        TR|   BK|           4TH/STATE| CM96|   1.0|         8069A| NO STOPPING/STANDING|       93.0|  99999.0|  99999.0|              NULL|             NULL|                  NULL|\n",
      "|   1107179581|2015-12-27 00:00:00|    1055.0|    NULL|       NULL|            CA|         201605.0|NULL|TOYO|        PA|   BK|3100 N HOLLYRIDGE DR| NULL|  54.0|         8058L|         PREF PARKING|       68.0|  99999.0|  99999.0|              NULL|             NULL|                  NULL|\n",
      "|   1107179592|2015-12-27 00:00:00|    1200.0|    NULL|       NULL|            CA|         201602.0|NULL|MBNZ|        PA|   BK|   3115 N BERENDO DR| NULL|  54.0|         8058L|         PREF PARKING|       68.0|  99999.0|  99999.0|              NULL|             NULL|                  NULL|\n",
      "|   1107179603|2015-12-27 00:00:00|    1400.0|    NULL|       NULL|            CA|         201611.0|NULL|NISS|        PA|   WH| 3100 N BEACHWOOD DR| NULL|  54.0|         8058L|         PREF PARKING|       68.0|  99999.0|  99999.0|              NULL|             NULL|                  NULL|\n",
      "|   1107539823|2015-09-16 00:00:00|    2120.0|    NULL|       NULL|            CA|         201502.0|NULL|NISS|        PA| NULL|      BLAINE/11TH PL|1FB95|   1.0|        4000A1|   NO EVIDENCE OF REG|       50.0|  99999.0|  99999.0|              NULL|             NULL|                  NULL|\n",
      "|   1107539834|2015-09-16 00:00:00|    1045.0|    NULL|       NULL|            CA|             NULL|NULL|CHEV|        PA|   BK|  1246 S FIGUEROA ST| 1L20|   1.0|        8069AP|     NO STOP/STAND PM|       93.0|  99999.0|  99999.0|              NULL|             NULL|                  NULL|\n",
      "|   1107780811|2015-12-22 00:00:00|    1102.0|    NULL|       NULL|            CA|         201606.0|NULL|HOND|        PA|   BK|       PLATA/RAMPART|  2A1|   1.0|         8069B|           NO PARKING|       73.0|  99999.0|  99999.0|              NULL|             NULL|                  NULL|\n",
      "+-------------+-------------------+----------+--------+-----------+--------------+-----------------+----+----+----------+-----+--------------------+-----+------+--------------+---------------------+-----------+---------+---------+------------------+-----------------+----------------------+\n",
      "only showing top 20 rows\n",
      "\n"
     ]
    }
   ],
   "source": [
    "\n",
    "df.show()"
   ]
  },
  {
   "cell_type": "markdown",
   "id": "6acd32ea",
   "metadata": {},
   "source": [
    "### Print the schema for the `DataFrame"
   ]
  },
  {
   "cell_type": "code",
   "execution_count": 27,
   "id": "41540f3f-8947-41cb-9a0b-63ee46384cd8",
   "metadata": {},
   "outputs": [
    {
     "name": "stdout",
     "output_type": "stream",
     "text": [
      "root\n",
      " |-- Ticket number: string (nullable = true)\n",
      " |-- Issue Date: timestamp (nullable = true)\n",
      " |-- Issue time: double (nullable = true)\n",
      " |-- Meter Id: string (nullable = true)\n",
      " |-- Marked Time: double (nullable = true)\n",
      " |-- RP State Plate: string (nullable = true)\n",
      " |-- Plate Expiry Date: double (nullable = true)\n",
      " |-- VIN: string (nullable = true)\n",
      " |-- Make: string (nullable = true)\n",
      " |-- Body Style: string (nullable = true)\n",
      " |-- Color: string (nullable = true)\n",
      " |-- Location: string (nullable = true)\n",
      " |-- Route: string (nullable = true)\n",
      " |-- Agency: double (nullable = true)\n",
      " |-- Violation code: string (nullable = true)\n",
      " |-- Violation Description: string (nullable = true)\n",
      " |-- Fine amount: double (nullable = true)\n",
      " |-- Latitude: double (nullable = true)\n",
      " |-- Longitude: double (nullable = true)\n",
      " |-- Agency Description: string (nullable = true)\n",
      " |-- Color Description: string (nullable = true)\n",
      " |-- Body Style Description: string (nullable = true)\n",
      "\n"
     ]
    }
   ],
   "source": [
    "df.printSchema()\n"
   ]
  },
  {
   "cell_type": "markdown",
   "id": "e9fd5cc2",
   "metadata": {},
   "source": [
    "### Count the number of rows in the CSV file"
   ]
  },
  {
   "cell_type": "code",
   "execution_count": 28,
   "id": "30c8f871-7407-4bb2-a436-3faf0a176c7b",
   "metadata": {},
   "outputs": [
    {
     "name": "stderr",
     "output_type": "stream",
     "text": [
      "                                                                                \r"
     ]
    },
    {
     "name": "stdout",
     "output_type": "stream",
     "text": [
      "Number of rows = 13077724\n"
     ]
    }
   ],
   "source": [
    "number_of_rows = df.count()\n",
    "print(\"Number of rows =\", number_of_rows) "
   ]
  },
  {
   "cell_type": "code",
   "execution_count": 29,
   "id": "5c9a0485-303b-4199-83f7-67a879f2977e",
   "metadata": {},
   "outputs": [
    {
     "name": "stdout",
     "output_type": "stream",
     "text": [
      "Number of partitions in the RDD: 16\n"
     ]
    }
   ],
   "source": [
    "number_of_partitions = df.rdd.getNumPartitions()\n",
    "print(\"Number of partitions in the RDD:\", number_of_partitions)"
   ]
  },
  {
   "cell_type": "markdown",
   "id": "f6ad5cb0",
   "metadata": {},
   "source": [
    "### Drop the columns `VIN, Latitude, Longtitude`"
   ]
  },
  {
   "cell_type": "code",
   "execution_count": 30,
   "id": "39da6559-d016-498e-9241-b50fbf714385",
   "metadata": {},
   "outputs": [
    {
     "data": {
      "text/plain": [
       "['Ticket number',\n",
       " 'Issue Date',\n",
       " 'Issue time',\n",
       " 'Meter Id',\n",
       " 'Marked Time',\n",
       " 'RP State Plate',\n",
       " 'Plate Expiry Date',\n",
       " 'Make',\n",
       " 'Body Style',\n",
       " 'Color',\n",
       " 'Location',\n",
       " 'Route',\n",
       " 'Agency',\n",
       " 'Violation code',\n",
       " 'Violation Description',\n",
       " 'Fine amount',\n",
       " 'Agency Description',\n",
       " 'Color Description',\n",
       " 'Body Style Description']"
      ]
     },
     "execution_count": 30,
     "metadata": {},
     "output_type": "execute_result"
    }
   ],
   "source": [
    "columns_to_drop = ['VIN', 'Latitude', 'Longitude']\n",
    "df = df.drop(*columns_to_drop)\n",
    "df.columns"
   ]
  },
  {
   "cell_type": "markdown",
   "id": "7b0f6beb",
   "metadata": {},
   "source": [
    "### Find the maximum fine amount and its occurencies"
   ]
  },
  {
   "cell_type": "code",
   "execution_count": 32,
   "id": "b004d12e-9981-4f94-a7bf-8ab7d507e2b7",
   "metadata": {},
   "outputs": [],
   "source": [
    "# cast the column into float\n",
    "df = df.withColumn('`Fine amount`', df['Fine amount'].cast(\"float\"))\n"
   ]
  },
  {
   "cell_type": "code",
   "execution_count": 33,
   "id": "3b5cb30a-d4c3-4cea-b28e-81e6bd017142",
   "metadata": {},
   "outputs": [
    {
     "name": "stdout",
     "output_type": "stream",
     "text": [
      "+-----------+\n",
      "|Fine amount|\n",
      "+-----------+\n",
      "|       50.0|\n",
      "|       50.0|\n",
      "|       58.0|\n",
      "|       NULL|\n",
      "|       93.0|\n",
      "+-----------+\n",
      "only showing top 5 rows\n",
      "\n"
     ]
    }
   ],
   "source": [
    "df.select('Fine amount').show(5)\n"
   ]
  },
  {
   "cell_type": "code",
   "execution_count": 34,
   "id": "96e90544-deb2-4045-ba9f-9d39c9bf9c12",
   "metadata": {},
   "outputs": [
    {
     "name": "stderr",
     "output_type": "stream",
     "text": [
      "                                                                                \r"
     ]
    }
   ],
   "source": [
    "max_fine_amount = df.selectExpr('max(`Fine amount`) as max_fine_amount').collect()[0]['max_fine_amount']\n"
   ]
  },
  {
   "cell_type": "code",
   "execution_count": 35,
   "id": "0619aff5-db36-41e8-bc2d-32ab89903218",
   "metadata": {},
   "outputs": [
    {
     "data": {
      "text/plain": [
       "1100.0"
      ]
     },
     "execution_count": 35,
     "metadata": {},
     "output_type": "execute_result"
    }
   ],
   "source": [
    "max_fine_amount"
   ]
  },
  {
   "cell_type": "code",
   "execution_count": 36,
   "id": "7e9e5314-291a-4d5b-87f3-f646a45da8fe",
   "metadata": {},
   "outputs": [
    {
     "name": "stderr",
     "output_type": "stream",
     "text": [
      "                                                                                \r"
     ]
    }
   ],
   "source": [
    "max_fine_amount_occurences = df.filter(df[\"Fine amount\"] == max_fine_amount).count()\n"
   ]
  },
  {
   "cell_type": "code",
   "execution_count": 37,
   "id": "59900ca1-87b7-4732-b054-7a3be931ea5e",
   "metadata": {},
   "outputs": [
    {
     "name": "stdout",
     "output_type": "stream",
     "text": [
      "The maximum fine amount 1100.0 occurs 626 times in the dataset\n"
     ]
    }
   ],
   "source": [
    "print(f'The maximum fine amount {max_fine_amount} occurs {max_fine_amount_occurences} times in the dataset')"
   ]
  },
  {
   "cell_type": "markdown",
   "id": "9603dd41",
   "metadata": {},
   "source": [
    "### Find the top 20 most frequent vehicle makes, and their frequencies"
   ]
  },
  {
   "cell_type": "code",
   "execution_count": 38,
   "id": "88667f30-50c2-4d37-8514-1eeece9d9c43",
   "metadata": {},
   "outputs": [
    {
     "name": "stderr",
     "output_type": "stream",
     "text": [
      "[Stage 32:====================================================>   (15 + 1) / 16]\r"
     ]
    },
    {
     "name": "stdout",
     "output_type": "stream",
     "text": [
      "+----+-------+\n",
      "|Make|  count|\n",
      "+----+-------+\n",
      "|TOYT|2150768|\n",
      "|HOND|1479996|\n",
      "|FORD|1116235|\n",
      "|NISS| 945133|\n",
      "|CHEV| 892676|\n",
      "| BMW| 603092|\n",
      "|MERZ| 543298|\n",
      "|VOLK| 432030|\n",
      "|HYUN| 404917|\n",
      "|DODG| 391686|\n",
      "|LEXS| 368420|\n",
      "| KIA| 328155|\n",
      "|JEEP| 316300|\n",
      "|AUDI| 255395|\n",
      "|MAZD| 242344|\n",
      "|OTHR| 205546|\n",
      "| GMC| 184889|\n",
      "|INFI| 174315|\n",
      "|CHRY| 159948|\n",
      "|SUBA| 154640|\n",
      "+----+-------+\n",
      "\n"
     ]
    },
    {
     "name": "stderr",
     "output_type": "stream",
     "text": [
      "                                                                                \r"
     ]
    }
   ],
   "source": [
    "vehicle_makes = df.groupBy('Make').count().orderBy('count', ascending=False).limit(20)\n",
    "\n",
    "# Show the result\n",
    "vehicle_makes.show()"
   ]
  },
  {
   "cell_type": "markdown",
   "id": "e6fee07f",
   "metadata": {},
   "source": [
    "### Find the most frequent colour value for Toyotas by creating a `User Defined Function` that creates a new column `color long`"
   ]
  },
  {
   "cell_type": "code",
   "execution_count": 41,
   "id": "88c9c5cd-d54f-4535-934f-9d9fa7552a9b",
   "metadata": {},
   "outputs": [
    {
     "name": "stdout",
     "output_type": "stream",
     "text": [
      "+----------+\n",
      "|color full|\n",
      "+----------+\n",
      "|      Gray|\n",
      "|     White|\n",
      "|     Black|\n",
      "|     White|\n",
      "|     Black|\n",
      "+----------+\n",
      "only showing top 5 rows\n",
      "\n"
     ]
    }
   ],
   "source": [
    "from pyspark.sql.functions import udf\n",
    "from pyspark.sql.types import StringType\n",
    "\n",
    "\n",
    "COLORS = {\n",
    "    'AL': 'Aluminum', 'AM': 'Amber', 'BG': 'Beige', 'BK': 'Black',\n",
    "    'BL': 'Blue', 'BN': 'Brown', 'BR': 'Brown', 'BZ': 'Bronze',\n",
    "    'CH': 'Charcoal', 'DK': 'Dark', 'GD': 'Gold', 'GO': 'Gold',\n",
    "    'GN': 'Green', 'GY': 'Gray', 'GT': 'Granite', 'IV': 'Ivory',\n",
    "    'LT': 'Light', 'OL': 'Olive', 'OR': 'Orange', 'MR': 'Maroon',\n",
    "    'PK': 'Pink', 'RD': 'Red', 'RE': 'Red', 'SI': 'Silver', 'SL': 'Silver',\n",
    "    'SM': 'Smoke', 'TN': 'Tan', 'VT': 'Violet', 'WT': 'White', 'WH': 'White',\n",
    "    'YL': 'Yellow', 'YE': 'Yellow', 'UN': 'Unknown'\n",
    "}\n",
    "\n",
    "def expand_color_abbreviations(color):\n",
    "    return COLORS.get(color, color)\n",
    "\n",
    "expand_color_abbreviations_udf = udf(expand_color_abbreviations, StringType())\n",
    "\n",
    "df = df.withColumn('color full', expand_color_abbreviations_udf(df['color']))\n",
    "\n",
    "df.select('color full').show(5)"
   ]
  },
  {
   "cell_type": "code",
   "execution_count": 43,
   "id": "94e13462-d3d9-4530-bc55-763f92d9d2db",
   "metadata": {},
   "outputs": [
    {
     "name": "stderr",
     "output_type": "stream",
     "text": [
      "[Stage 37:====================================================>   (15 + 1) / 16]\r"
     ]
    },
    {
     "name": "stdout",
     "output_type": "stream",
     "text": [
      "Most frequent color for Toyotas (TOYT): Gray\n"
     ]
    },
    {
     "name": "stderr",
     "output_type": "stream",
     "text": [
      "                                                                                \r"
     ]
    }
   ],
   "source": [
    "toyota = df.filter(df['Make'] == 'TOYT')\n",
    "\n",
    "# Calculate the most frequent color value\n",
    "toyota_color_count= toyota.groupBy('color full').count().orderBy('count', ascending=False).first()\n",
    "\n",
    "# Print the result\n",
    "print(\"Most frequent color for Toyotas (TOYT):\", toyota_color_count['color full'])"
   ]
  }
 ],
 "metadata": {
  "kernelspec": {
   "display_name": "Python 3 (ipykernel)",
   "language": "python",
   "name": "python3"
  },
  "language_info": {
   "codemirror_mode": {
    "name": "ipython",
    "version": 3
   },
   "file_extension": ".py",
   "mimetype": "text/x-python",
   "name": "python",
   "nbconvert_exporter": "python",
   "pygments_lexer": "ipython3",
   "version": "3.8.10"
  }
 },
 "nbformat": 4,
 "nbformat_minor": 5
}
